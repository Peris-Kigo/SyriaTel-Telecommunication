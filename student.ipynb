{
 "cells": [
  {
   "cell_type": "markdown",
   "id": "5d5e2f89-db40-49b3-902d-15931aa6de3b",
   "metadata": {},
   "source": [
    "# 1. SYRIATEL CHURN PREDICTION"
   ]
  },
  {
   "cell_type": "markdown",
   "id": "4e1c79e4-a5eb-4e6a-8b84-e32ebc2c9a59",
   "metadata": {},
   "source": [
    "## 1.1. Business Understanding\n",
    "SyriaTel is a telecommunications company that provides services such as voice calls, messaging, and data plans to a wide range of customers. Like many telecom providers, its business relies heavily on maintaining a stable base of long-term subscribers. Customer loyalty is therefore crucial as steady usage over time generates predictable revenue and reduces the high costs of constantly getting new users.\n",
    "\n",
    "Customer churn has long been a challenge for the telecommunications industry, and SyriaTel is no exception. Churn refers to the rate at which customers discontinue their service, either by switching to a competitor or by simply stopping usage altogether. For telecom companies, churn is costly since acquiring a new customer is usually more expensive than retaining an existing one.\n",
    "\n",
    "This project seeks to identify customers at high risk of churn. With these insights, SyriaTel can implement retention strategies to keep valuable customers engaged.\n",
    "\n",
    "### 1.1.1. Problem statement\n",
    "SyriaTel is losing a portion of its customers to churn, which directly impacts profitability. However, the company lacks a clear framework to identify which customers are most at risk of leaving. Without this knowledge, SyriaTel cannot act proactively to retain these customers. This project aims to develop a predictive model that will identify customers likely to churn or notify before they leave.\n",
    "\n",
    "### 1.1.2. Objectives\n",
    "1. To identify the factors that significantly influence churn.\n",
    "2. To build and validate a predictive model that classifies whether a customer is likely to churn.\n",
    "3. To determine how much revenue is lost due to customer churn.\n",
    "4. To provide insights that SyriaTel can use in customer retention strategies.\n",
    "\n",
    "### 1.1.3. Metric of Success\n",
    "\n",
    "1. The project will be considered successful if it leads to:\n",
    "* lower churn rate, meaning fewer customers discontinue their subscriptions.\n",
    "* higher customer retention rate, with more customers choosing to stay with SyriaTel for longer periods.\n",
    "* Enhanced customer experience, as the company acts on insights from the model to resolve common pain points.\n",
    "2. From a technical perspective, the model should achieve an overall accuracy above 75% and a recall above 70% for churn prediction, since recall is critical to correctly identifying customers at risk of leaving."
   ]
  },
  {
   "cell_type": "markdown",
   "id": "cebefb2d-ff63-4256-bab0-a35556e3e02f",
   "metadata": {},
   "source": [
    "## 1.2. Data understanding\n",
    "The dataset consists of customer information collected by SyriaTel. Each row represents a single customer, and the columns describe their usage, subscription plans, and service interactions. The target variable is churn, which indicates whether the customer left the company or stayed.\n",
    "\n",
    "**Columns:**\n",
    "* state : The U.S. state where the customer is located. \n",
    "* account length : The number of days a customer has had their account. \n",
    "* area code : The customer’s area code.\n",
    "* phone number : Each customer’s phone number (unique identifier).\n",
    "* international plan : Whether the customer has subscribed to an international calling plan (yes or no). \n",
    "* voice mail plan : Whether the customer has subscribed to a voicemail plan. \n",
    "* number vmail messages : Number of voice mail messages received by the customer. \n",
    "* total day minutes : Total minutes used by the customer during daytime.\n",
    "* total day calls : Total number of calls made during daytime.\n",
    "* total day charge : Total charges incurred during daytime.\n",
    "* total eve minutes : Total minutes used during evening hours.\n",
    "* total eve calls : Total number of calls made during evening hours.\n",
    "* total eve charge : Total charges incurred during evening hours.\n",
    "* total night minutes : Total minutes used during night hours.\n",
    "* total night calls : Total number of calls made during night hours.\n",
    "* total night charge : Total charges incurred during night hours.\n",
    "* total intl minutes : Total international minutes used.\n",
    "* total intl calls : Number of international calls made.\n",
    "* total intl charge : Total charges from international calls.\n",
    "* customer service calls : Number of times the customer called customer service. \n",
    "* churn : The target variable (True if the customer churned, False if they stayed). "
   ]
  },
  {
   "cell_type": "code",
   "execution_count": null,
   "id": "ca306516-9be0-4604-9e86-7a0454ab8090",
   "metadata": {},
   "outputs": [],
   "source": []
  }
 ],
 "metadata": {
  "kernelspec": {
   "display_name": "python 3",
   "language": "python",
   "name": "python3"
  },
  "language_info": {
   "codemirror_mode": {
    "name": "ipython",
    "version": 3
   },
   "file_extension": ".py",
   "mimetype": "text/x-python",
   "name": "python",
   "nbconvert_exporter": "python",
   "pygments_lexer": "ipython3",
   "version": "3.12.7"
  }
 },
 "nbformat": 4,
 "nbformat_minor": 5
}
